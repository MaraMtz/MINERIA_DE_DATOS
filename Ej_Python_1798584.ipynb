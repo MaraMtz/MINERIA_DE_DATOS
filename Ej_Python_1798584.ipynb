{
 "cells": [
  {
   "cell_type": "markdown",
   "id": "4c44f897",
   "metadata": {},
   "source": [
    "# *Mara Anahí Martínez Cervantes 1798584*"
   ]
  },
  {
   "cell_type": "markdown",
   "id": "9e36b300",
   "metadata": {},
   "source": [
    "# Ejercicio 1:  \n",
    "\n",
    "Realiza una variable con tu matricula y realiza una secuencia de imprimir con tu nombre y tu matricula concatenados."
   ]
  },
  {
   "cell_type": "code",
   "execution_count": 4,
   "id": "9c9cb13e",
   "metadata": {},
   "outputs": [
    {
     "name": "stdout",
     "output_type": "stream",
     "text": [
      "Mara Anahí Martínez Cervantes 1798584\n"
     ]
    }
   ],
   "source": [
    "mat= 1798584 \n",
    "n= \"Mara Anahí Martínez Cervantes\"\n",
    "print(n,mat)"
   ]
  },
  {
   "cell_type": "markdown",
   "id": "8c7dc331",
   "metadata": {},
   "source": [
    "# Ejercicio 2  \n",
    "\n",
    "Pidiendo el input del usuario, pide dos números y crea una pequeña calculadora con los operadores básicos de suma, resta, multiplicación, división y exponente. Utilizando el loop While."
   ]
  },
  {
   "cell_type": "code",
   "execution_count": 55,
   "id": "52ef5bf8",
   "metadata": {},
   "outputs": [
    {
     "name": "stdout",
     "output_type": "stream",
     "text": [
      "Inserte un número: 3\n",
      "Inserte otro número: 4\n",
      "Suma:\n",
      "   3 + 4 = 7\n",
      "Resta:\n",
      "   3 - 4 = -1\n",
      "   4 - 3 = 1\n",
      "Multiplicación:\n",
      "   3 * 4 = 12\n",
      "División:\n",
      "   3 / 4 = 0.75\n",
      "   4 / 3 = 1.3333333333333333\n",
      "Exponente cuadrado:\n",
      "   3 ** 2 = 9\n",
      "   4 ** 2 = 16\n"
     ]
    }
   ],
   "source": [
    "n1= int(input('Inserte un número: '))  \n",
    "n2= int(input('Inserte otro número: '))\n",
    "\n",
    "s= n1 + n2\n",
    "r1= n1 - n2\n",
    "r2= n2 - n1\n",
    "m= n1 * n2\n",
    "d1= n1 / n2\n",
    "d2= n2 / n1\n",
    "e1= n1 ** 2\n",
    "e2= n2 ** 2\n",
    "    \n",
    "print(\"Suma:\\n   {} + {} = {}\".format(n1,n2,s))\n",
    "print(\"Resta:\\n   {} - {} = {}\\n   {} - {} = {}\".format(n1,n2,r1,n2,n1,r2))\n",
    "print(\"Multiplicación:\\n   {} * {} = {}\".format(n1,n2,m))\n",
    "print(\"División:\\n   {} / {} = {}\\n   {} / {} = {}\".format(n1,n2,d1,n2,n1,d2))\n",
    "print(\"Exponente cuadrado:\\n   {} ** 2 = {}\\n   {} ** 2 = {}\".format(n1,e1,n2,e2))"
   ]
  },
  {
   "cell_type": "markdown",
   "id": "ab96fa9e",
   "metadata": {},
   "source": [
    "# Ejercicio 3  \n",
    "\n",
    "Con loop while o for, realiza una lista de 10 números multiplos de 3, y después realiza una función de loop que sume todos los números dentro del arreglo."
   ]
  },
  {
   "cell_type": "code",
   "execution_count": 125,
   "id": "e67a4f01",
   "metadata": {},
   "outputs": [
    {
     "name": "stdout",
     "output_type": "stream",
     "text": [
      "[3, 6, 9, 12, 15, 18, 21, 24, 27, 30]\n",
      "\n",
      "La suma de los número es:  165\n"
     ]
    }
   ],
   "source": [
    "tm = []\n",
    "s= 0\n",
    "tm.clear()\n",
    "for i in range(1,11):\n",
    "    tm.append(i*3)\n",
    "print(tm)\n",
    "\n",
    "for item in tm:\n",
    "    s= s + item\n",
    "print(\"\\nLa suma de los número es: \",s)"
   ]
  },
  {
   "cell_type": "markdown",
   "id": "2a3de627",
   "metadata": {},
   "source": [
    "# Ejercicio 4  \n",
    "\n",
    "- Con una función de if else, revisar si un número es par o impar.  \n",
    "- Con una función de if else, revisar si un número es primo o no."
   ]
  },
  {
   "cell_type": "code",
   "execution_count": 5,
   "id": "1b615260",
   "metadata": {
    "scrolled": true
   },
   "outputs": [
    {
     "name": "stdout",
     "output_type": "stream",
     "text": [
      "Ingrese un número: \n",
      "2\n",
      "\n",
      "Su número es par\n",
      "\n",
      "Su número es primo\n"
     ]
    }
   ],
   "source": [
    "b=0\n",
    "while b == 0:\n",
    "    print(\"Ingrese un número: \")\n",
    "    x=input()\n",
    "    try:\n",
    "        b=1\n",
    "    except ValueError:\n",
    "        print(\"\\nSolamente ingrese números por favor.\")\n",
    "        b=0\n",
    "y=float(x)\n",
    "\n",
    "if y%2==0:\n",
    "    print(\"\\nSu número es par\")\n",
    "else:\n",
    "    print(\"\\nSu número es impar\")\n",
    "z=y-1\n",
    "i=2\n",
    "b2=0\n",
    "while i<=z:\n",
    "    if y%i!=0:\n",
    "        b2=b2+0\n",
    "    else:\n",
    "        b2=b2+1\n",
    "    i=i+1\n",
    "if b2==0:\n",
    "    print(\"\\nSu número es primo\")\n",
    "else:\n",
    "    print(\"\\nSu número no es primo\")"
   ]
  },
  {
   "cell_type": "markdown",
   "id": "a397958b",
   "metadata": {},
   "source": [
    "# Ejercicio 5  \n",
    "\n",
    "Utilizando diferentes clases en python, crea una calculadora con los operadores básicos de suma, resta, división y exponente.   \n",
    "\n",
    "Funciones matemáticas en la librería de math en python."
   ]
  },
  {
   "cell_type": "code",
   "execution_count": 24,
   "id": "cab6286e",
   "metadata": {},
   "outputs": [
    {
     "name": "stdout",
     "output_type": "stream",
     "text": [
      "Introduce un número: 3\n",
      "Introduce otro número: 4\n",
      "\n",
      "\n",
      "Escriba el número de la operación deseada: \n",
      "(1) Suma.\n",
      "(2) Resta.\n",
      "(3) Multiplicación.\n",
      "(4) División.\n",
      "(5) Exponente.\n",
      "5\n",
      "\n",
      "\n",
      "Exponentes: \n",
      " De tu primer número  3  es  9 \n",
      " De tu segundo número  4  es  16\n"
     ]
    }
   ],
   "source": [
    "a=int(input(\"Introduce un número: \"))\n",
    "b=int(input(\"Introduce otro número: \"))\n",
    "\n",
    "def Suma(a,b):\n",
    "    c= a+b\n",
    "    return c\n",
    "def Resta(a,b):\n",
    "    c= a-b\n",
    "    return c\n",
    "def Multiplicacion(a,b):\n",
    "    c= a*b\n",
    "    return c\n",
    "def Division(a,b):\n",
    "    c= a/b\n",
    "    return c\n",
    "def Exponente1(a):\n",
    "    c= a**2\n",
    "    return c\n",
    "def Exponente2(b):\n",
    "    c = b**2\n",
    "    return c\n",
    "\n",
    "e=int(input(\"\\n\\nEscriba el número de la operación deseada: \\n(1) Suma.\\n(2) Resta.\\n(3) Multiplicación.\\n(4) División.\\n(5) Exponente.\\n\"))\n",
    "\n",
    "if e==1:\n",
    "    print (\"\\n\\nSuma: \\n\",Suma(a,b))\n",
    "elif e==2:\n",
    "    print (\"\\n\\nRestas: \\n\",Resta(a,b))\n",
    "elif e==3:\n",
    "    print (\"\\n\\nMultiplicacion: \\n\", Multiplicacion(a,b))\n",
    "elif e==4:\n",
    "    print (\"\\n\\nDivision: \\n\", Division(a,b))\n",
    "elif e==5:\n",
    "    print (\"\\n\\nExponentes: \\n De tu primer número \",a,\" es \", Exponente1(a),\"\\n De tu segundo número \",b,\" es \",Exponente2(b))\n"
   ]
  },
  {
   "cell_type": "markdown",
   "id": "517b5074",
   "metadata": {},
   "source": [
    "# Ejercicios con estructuras básicas de python.  \n",
    "\n",
    "## Tuplas.   \n",
    "\n",
    "- Crear una variable flotante, integer, boleana y compleja e imprimir el tipo de variable que es."
   ]
  },
  {
   "cell_type": "code",
   "execution_count": 236,
   "id": "797ac3a6",
   "metadata": {},
   "outputs": [
    {
     "name": "stdout",
     "output_type": "stream",
     "text": [
      "La variable 17 es <class 'int'>\n",
      "\n",
      "\n",
      "La variable 18.04 es <class 'float'>\n",
      "\n",
      "\n",
      "La variable True  es  <class 'bool'>\n",
      "\n",
      "\n",
      "La variable 13j es <class 'complex'>\n"
     ]
    }
   ],
   "source": [
    "a= 17\n",
    "print('La variable {} es {}'.format(a, type(a)))\n",
    "print('\\n')\n",
    "\n",
    "b= 18.04\n",
    "print('La variable {} es {}'.format(b, type(b)))\n",
    "print('\\n')\n",
    "\n",
    "c= True\n",
    "print('La variable',c, ' es ', type(c))\n",
    "print('\\n')\n",
    "\n",
    "d= 13j\n",
    "print('La variable {} es {}'.format(d, type(d)))"
   ]
  },
  {
   "cell_type": "markdown",
   "id": "0525dc75",
   "metadata": {},
   "source": [
    "- Crear una tupla con valores enteros, imprimir el primer y último valor."
   ]
  },
  {
   "cell_type": "code",
   "execution_count": 237,
   "id": "aebf5f8d",
   "metadata": {},
   "outputs": [
    {
     "name": "stdout",
     "output_type": "stream",
     "text": [
      "(13, 17, 16, 18, 4) \n",
      " <class 'tuple'> \n",
      "\n",
      "Primer valor:  13\n",
      "Segundo valor:  4\n"
     ]
    }
   ],
   "source": [
    "t1=(13, 17, 16, 18, 4)\n",
    "print(t1,'\\n', type(t1),'\\n')\n",
    "\n",
    "print('Primer valor: ',t1[0])\n",
    "print('Segundo valor: ',t1[-1])"
   ]
  },
  {
   "cell_type": "markdown",
   "id": "f4ca17ba",
   "metadata": {},
   "source": [
    "- Añadir 3 valores de string a la tupla."
   ]
  },
  {
   "cell_type": "code",
   "execution_count": 238,
   "id": "bfddc275",
   "metadata": {},
   "outputs": [
    {
     "data": {
      "text/plain": [
       "(13, 17, 16, 18, 4, 'svt')"
      ]
     },
     "execution_count": 238,
     "metadata": {},
     "output_type": "execute_result"
    }
   ],
   "source": [
    "t1 = t1.__add__(('svt',))\n",
    "t1"
   ]
  },
  {
   "cell_type": "markdown",
   "id": "3fb3da0e",
   "metadata": {},
   "source": [
    "- Verificar si una variable existe dentro de la tupla."
   ]
  },
  {
   "cell_type": "code",
   "execution_count": 240,
   "id": "6bad6c59",
   "metadata": {},
   "outputs": [
    {
     "name": "stdout",
     "output_type": "stream",
     "text": [
      "17 esta dentro de la tupla:  True\n"
     ]
    }
   ],
   "source": [
    "a= 17\n",
    "\n",
    "print(a, 'esta dentro de la tupla: ',a in t1)"
   ]
  },
  {
   "cell_type": "markdown",
   "id": "f13bba89",
   "metadata": {},
   "source": [
    "## Listas.  \n",
    "\n",
    "- Crear una lista con 40 elementos aleatorios enteros."
   ]
  },
  {
   "cell_type": "code",
   "execution_count": 167,
   "id": "68a532a6",
   "metadata": {
    "scrolled": true
   },
   "outputs": [
    {
     "name": "stdout",
     "output_type": "stream",
     "text": [
      "[92, 39, 30, 44, 42, 53, 56, 91, 90, 80, 23, 2, 52, 8, 61, 34, 34, 2, 44, 40, 35, 71, 8, 0, 76, 11, 36, 94, 16, 21, 7, 49, 27, 48, 81, 36, 81, 53, 61, 98]\n"
     ]
    }
   ],
   "source": [
    "import random\n",
    "\n",
    "n=40\n",
    "\n",
    "alt = [random.randint(0,100) for _ in range(n)]\n",
    "print(alt)"
   ]
  },
  {
   "cell_type": "markdown",
   "id": "c59effe1",
   "metadata": {},
   "source": [
    "- Con una función (def) crear dos listas nuevas  partir de la lista creada por números aleatorios, en la cual en una esten los elementos pares, y en la otra los elementos impares."
   ]
  },
  {
   "cell_type": "code",
   "execution_count": 168,
   "id": "99080e0c",
   "metadata": {},
   "outputs": [
    {
     "name": "stdout",
     "output_type": "stream",
     "text": [
      "[92, 30, 44, 42, 56, 90, 80, 2, 52, 8, 34, 34, 2, 44, 40, 8, 0, 76, 36, 94, 16, 48, 36, 98]\n",
      "\n",
      "\n",
      "[39, 53, 91, 23, 61, 35, 71, 11, 21, 7, 49, 27, 81, 81, 53, 61]\n"
     ]
    }
   ],
   "source": [
    "par= []\n",
    "impar= []\n",
    "i= 0\n",
    "\n",
    "\n",
    "for i in range(0,40):\n",
    "    if alt[i] % 2 == 0:\n",
    "        par.append(alt[i])\n",
    "    else:\n",
    "        impar.append(alt[i])\n",
    "print(par)\n",
    "print('\\n')\n",
    "print(impar)"
   ]
  },
  {
   "cell_type": "markdown",
   "id": "cc9be723",
   "metadata": {},
   "source": [
    "- Crear dos variables con la longitud de ambas listas nuevas e imprimir las variables."
   ]
  },
  {
   "cell_type": "code",
   "execution_count": 169,
   "id": "920b6bf4",
   "metadata": {},
   "outputs": [
    {
     "name": "stdout",
     "output_type": "stream",
     "text": [
      "Hay 24 números pares.\n",
      "Hay 16 número impares.\n"
     ]
    }
   ],
   "source": [
    "longpar= len(par)\n",
    "longimpar= len(impar)\n",
    "\n",
    "print('Hay {} números pares.\\nHay {} número impares.'.format(longpar,longimpar))"
   ]
  },
  {
   "cell_type": "markdown",
   "id": "0af106f2",
   "metadata": {},
   "source": [
    "- Ordenar los elementos de la lista par de mayor a menor, y los de la lista impar de menor a mayor."
   ]
  },
  {
   "cell_type": "code",
   "execution_count": 170,
   "id": "7d840b3c",
   "metadata": {},
   "outputs": [
    {
     "name": "stdout",
     "output_type": "stream",
     "text": [
      "[98, 94, 92, 90, 80, 76, 56, 52, 48, 44, 44, 42, 40, 36, 36, 34, 34, 30, 16, 8, 8, 2, 2, 0]\n",
      "\n",
      "\n",
      "[7, 11, 21, 23, 27, 35, 39, 49, 53, 53, 61, 61, 71, 81, 81, 91]\n"
     ]
    }
   ],
   "source": [
    "par.sort()\n",
    "par.reverse()\n",
    "print(par)\n",
    "\n",
    "print('\\n')\n",
    "\n",
    "impar.sort()\n",
    "print(impar)"
   ]
  },
  {
   "cell_type": "markdown",
   "id": "b4603ede",
   "metadata": {},
   "source": [
    "- Utilizar al menos cuatro de la funciones de listas en python en la lista original de 40 elementos."
   ]
  },
  {
   "cell_type": "code",
   "execution_count": 171,
   "id": "92b7147c",
   "metadata": {},
   "outputs": [
    {
     "name": "stdout",
     "output_type": "stream",
     "text": [
      "[98, 61, 53, 81, 36, 81, 48, 27, 49, 7, 21, 16, 94, 36, 11, 76, 0, 8, 71, 35, 40, 44, 2, 34, 34, 61, 8, 52, 2, 23, 80, 90, 91, 56, 53, 42, 44, 30, 39, 92]\n",
      "\n",
      "\n",
      "[98, 61, 53, 81, 36, 81, 48, 27, 49, 7, 21, 16, 94, 36, 11, 76, 0, 8, 71, 35, 40, 44, 2, 34, 34, 61, 8, 52, 2, 23, 80, 90, 91, 56, 53, 42, 44, 30, 39]\n",
      "\n",
      "\n",
      "[98, 61, 53, 81, 36, 81, 48, 27, 49, 7, 21, 16, 94, 36, 11, 76, 0, 8, 71, 35, 40, 44, 2, 34, 34, 61, 8, 52, 2, 23, 80, 90, 91, 56, 53, 42, 44, 30, 39, 17, 13, 18]\n",
      "\n",
      "\n",
      "[]\n"
     ]
    }
   ],
   "source": [
    "alt.reverse()\n",
    "print(alt)\n",
    "print('\\n')\n",
    "alt.pop()\n",
    "print(alt)\n",
    "print('\\n')\n",
    "alt.extend([17, 13, 18])\n",
    "print(alt)\n",
    "print('\\n')\n",
    "alt.clear()\n",
    "print(alt)"
   ]
  },
  {
   "cell_type": "markdown",
   "id": "df1534b4",
   "metadata": {},
   "source": [
    "## Diccionarios.  \n",
    " \n",
    "- Crear un diccionario de 6 personas que conozcas con su primer nombre y su edad."
   ]
  },
  {
   "cell_type": "code",
   "execution_count": 30,
   "id": "8fd2afd6",
   "metadata": {},
   "outputs": [
    {
     "data": {
      "text/plain": [
       "{'Vernon': 23,\n",
       " 'Mingyu': 24,\n",
       " 'S.Coups': 26,\n",
       " 'Wonwoo': 25,\n",
       " 'Dino': 22,\n",
       " 'Joshua': 25}"
      ]
     },
     "execution_count": 30,
     "metadata": {},
     "output_type": "execute_result"
    }
   ],
   "source": [
    "dic_svt= {'Vernon': 23,'Mingyu': 24,'S.Coups': 26,'Wonwoo': 25,'Dino':22,'Joshua':25}\n",
    "\n",
    "dic_svt"
   ]
  },
  {
   "cell_type": "markdown",
   "id": "69b0e927",
   "metadata": {},
   "source": [
    "- Crear una lista con los valores de la edad y reacomodar la lista de menor a mayor valor."
   ]
  },
  {
   "cell_type": "code",
   "execution_count": 39,
   "id": "44f51f82",
   "metadata": {},
   "outputs": [
    {
     "name": "stdout",
     "output_type": "stream",
     "text": [
      "[23, 24, 26, 25, 22, 25]\n"
     ]
    },
    {
     "data": {
      "text/plain": [
       "[22, 23, 24, 25, 25, 26]"
      ]
     },
     "execution_count": 39,
     "metadata": {},
     "output_type": "execute_result"
    }
   ],
   "source": [
    "l= list(dic_svt.values())\n",
    "print(l)\n",
    "sorted(list(dic_svt.values()))"
   ]
  },
  {
   "cell_type": "markdown",
   "id": "1afd1512",
   "metadata": {},
   "source": [
    "- Usando el diccionario y un loop, imprimir solo los nombres."
   ]
  },
  {
   "cell_type": "code",
   "execution_count": 37,
   "id": "144889f4",
   "metadata": {},
   "outputs": [
    {
     "name": "stdout",
     "output_type": "stream",
     "text": [
      "Vernon\n",
      "Mingyu\n",
      "S.Coups\n",
      "Wonwoo\n",
      "Dino\n",
      "Joshua\n"
     ]
    }
   ],
   "source": [
    "for i in dic_svt: print(i)\n",
    "    "
   ]
  },
  {
   "cell_type": "markdown",
   "id": "aa126bd2",
   "metadata": {},
   "source": [
    "- Añadir dos personas nuevas a tu diccionario, incluyendo edad."
   ]
  },
  {
   "cell_type": "code",
   "execution_count": 26,
   "id": "66e9d99c",
   "metadata": {},
   "outputs": [
    {
     "data": {
      "text/plain": [
       "{'Vernon': 23,\n",
       " 'Mingyu': 24,\n",
       " 'S.Coups': 26,\n",
       " 'Wonwoo': 25,\n",
       " 'Dino': 22,\n",
       " 'Joshua': 25,\n",
       " 'Woozi': '24',\n",
       " 'Jeonghan': '25'}"
      ]
     },
     "execution_count": 26,
     "metadata": {},
     "output_type": "execute_result"
    }
   ],
   "source": [
    "dic_svt['Woozi'] = '24'\n",
    "dic_svt['Jeonghan'] = '25'\n",
    "\n",
    "dic_svt"
   ]
  },
  {
   "cell_type": "markdown",
   "id": "9d1edadc",
   "metadata": {},
   "source": [
    "## Sets.  \n",
    "\n",
    "- Crear un set con 100 números aleatorios del 1 al 25."
   ]
  },
  {
   "cell_type": "code",
   "execution_count": 173,
   "id": "c0c65457",
   "metadata": {},
   "outputs": [
    {
     "name": "stdout",
     "output_type": "stream",
     "text": [
      "{1, 2, 3, 4, 5, 6, 7, 8, 9, 10, 11, 12, 13, 14, 15, 16, 17, 18, 19, 20, 21, 22, 23, 24, 25}\n"
     ]
    },
    {
     "data": {
      "text/plain": [
       "set"
      ]
     },
     "execution_count": 173,
     "metadata": {},
     "output_type": "execute_result"
    }
   ],
   "source": [
    "import random\n",
    "\n",
    "n=100\n",
    "\n",
    "s = {random.randint(1,25) for _ in range(n)}\n",
    "print(s)\n",
    "type(s)"
   ]
  },
  {
   "cell_type": "markdown",
   "id": "b50b0d2a",
   "metadata": {},
   "source": [
    "- Comprueba la longitud de tu set."
   ]
  },
  {
   "cell_type": "code",
   "execution_count": 174,
   "id": "ddd0a1d4",
   "metadata": {},
   "outputs": [
    {
     "data": {
      "text/plain": [
       "25"
      ]
     },
     "execution_count": 174,
     "metadata": {},
     "output_type": "execute_result"
    }
   ],
   "source": [
    "len(s)"
   ]
  },
  {
   "cell_type": "markdown",
   "id": "b2cb8223",
   "metadata": {},
   "source": [
    "- Crear una lista de 5 números aleatorios del 1 al 10 y comprueba si cada valor aparece en el set inicial."
   ]
  },
  {
   "cell_type": "code",
   "execution_count": 201,
   "id": "10c70275",
   "metadata": {},
   "outputs": [
    {
     "name": "stdout",
     "output_type": "stream",
     "text": [
      "{3, 4, 5, 7, 10}\n",
      "True\n",
      "True\n",
      "True\n",
      "True\n",
      "True\n"
     ]
    }
   ],
   "source": [
    "import random\n",
    "n= 5\n",
    "\n",
    "ss= {random.randint(1,10) for i in range(n)}\n",
    "print(ss)\n",
    "for i in ss:\n",
    "    print(i in s)\n",
    "    \n"
   ]
  }
 ],
 "metadata": {
  "kernelspec": {
   "display_name": "Python 3",
   "language": "python",
   "name": "python3"
  },
  "language_info": {
   "codemirror_mode": {
    "name": "ipython",
    "version": 3
   },
   "file_extension": ".py",
   "mimetype": "text/x-python",
   "name": "python",
   "nbconvert_exporter": "python",
   "pygments_lexer": "ipython3",
   "version": "3.8.8"
  }
 },
 "nbformat": 4,
 "nbformat_minor": 5
}
